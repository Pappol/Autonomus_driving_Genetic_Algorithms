{
  "cells": [
    {
      "cell_type": "code",
      "execution_count": 1,
      "metadata": {
        "colab": {
          "base_uri": "https://localhost:8080/"
        },
        "id": "OoHubJE-r_om",
        "outputId": "1071b67d-a65d-46db-dcb5-3467b2f53b41"
      },
      "outputs": [
        {
          "name": "stdout",
          "output_type": "stream",
          "text": [
            "\u001b[2K     \u001b[90m━━━━━━━━━━━━━━━━━━━━━━━━━━━━━━━━━━━━━━━\u001b[0m \u001b[32m103.8/103.8 kB\u001b[0m \u001b[31m3.7 MB/s\u001b[0m eta \u001b[36m0:00:00\u001b[0m\n",
            "\u001b[2K     \u001b[90m━━━━━━━━━━━━━━━━━━━━━━━━━━━━━━━━━━━━━━\u001b[0m \u001b[32m925.5/925.5 kB\u001b[0m \u001b[31m34.8 MB/s\u001b[0m eta \u001b[36m0:00:00\u001b[0m\n",
            "\u001b[2K     \u001b[90m━━━━━━━━━━━━━━━━━━━━━━━━━━━━━━━━━━━━━━━━\u001b[0m \u001b[32m44.2/44.2 kB\u001b[0m \u001b[31m4.0 MB/s\u001b[0m eta \u001b[36m0:00:00\u001b[0m\n",
            "\u001b[?25h"
          ]
        }
      ],
      "source": [
        "! pip install gym --quiet\n",
        "! pip install highway-env --quiet\n",
        "! pip install neat-python --quiet\n"
      ]
    },
    {
      "cell_type": "code",
      "execution_count": 2,
      "metadata": {
        "id": "Vp8-gLRcresC"
      },
      "outputs": [],
      "source": [
        "import gymnasium as gym\n",
        "import highway_env\n",
        "import matplotlib.pyplot as plt\n",
        "import time\n",
        "import torch\n",
        "import numpy as np\n",
        "import os\n",
        "import neat\n",
        "import torch\n",
        "import torch.nn as nn\n",
        "import torch.nn.functional as F\n",
        "import torch.optim as optim\n",
        "import numpy as np"
      ]
    },
    {
      "cell_type": "code",
      "execution_count": 3,
      "metadata": {
        "id": "pnSWPoQ1toTl"
      },
      "outputs": [],
      "source": []
    },
    {
      "cell_type": "code",
      "execution_count": 4,
      "metadata": {
        "id": "mNSuaIByrjtt"
      },
      "outputs": [],
      "source": [
        "def renderEnvironmentExample(env):\n",
        "    obs, info = env.reset()\n",
        "    env.render()\n",
        "    env.close()\n",
        "\n",
        "\n",
        "def list_envs():\n",
        "    all_envs = gym.envs.registry\n",
        "    print(sorted(all_envs))\n",
        "\n",
        "def eval_genomes(genomes, config):\n",
        "    for genome_id, genome in genomes:\n",
        "        net = neat.nn.FeedForwardNetwork.create(genome, config)\n",
        "        observation = env.reset(seed=10)[0].flatten()\n",
        "        done = False\n",
        "        fitness = 0.0\n",
        "        while not done:\n",
        "            action = net.activate(observation)\n",
        "            #argmax the function\n",
        "            action = np.argmax(action)\n",
        "            observation_, reward, done, _, info = env.step(action)\n",
        "            observation_ = observation.flatten()\n",
        "            fitness += reward\n",
        "            observation = observation_\n",
        "        genome.fitness = fitness\n",
        "\n",
        "def learnDQNetwork(env, config_path):\n",
        "    agent = Agent(gamma=0.99, epsilon=1.0, batch_size=128, n_actions=5, eps_end=0.01, input_dims=25, lr=5e-4)\n",
        "    scores, epshistory = [], []\n",
        "\n",
        "    config = neat.config.Config(neat.DefaultGenome, neat.DefaultReproduction,\n",
        "                                neat.DefaultSpeciesSet, neat.DefaultStagnation,\n",
        "                                config_path)\n",
        "    \n",
        "    p = neat.Population(config)\n",
        "    p.add_reporter(neat.StdOutReporter(True))\n",
        "    stats = neat.StatisticsReporter()\n",
        "    p.add_reporter(stats)\n",
        "    winner = p.run(eval_genomes, 50)\n",
        "    print('\\nBest genome:\\n{!s}'.format(winner))"
      ]
    },
    {
      "cell_type": "code",
      "execution_count": null,
      "metadata": {
        "colab": {
          "base_uri": "https://localhost:8080/"
        },
        "id": "iNk97936rsbo",
        "outputId": "43c12198-de0d-4be3-8366-4adebd9cc50c"
      },
      "outputs": [
        {
          "name": "stdout",
          "output_type": "stream",
          "text": [
            "True\n",
            "\n",
            " ****** Running generation 0 ****** \n",
            "\n"
          ]
        },
        {
          "name": "stderr",
          "output_type": "stream",
          "text": [
            "/usr/local/lib/python3.10/dist-packages/gymnasium/utils/passive_env_checker.py:42: UserWarning: \u001b[33mWARN: A Box observation space has an unconventional shape (neither an image, nor a 1D vector). We recommend flattening the observation to have only a 1D vector or use a custom policy to properly process the data. Actual observation shape: (5, 5)\u001b[0m\n",
            "  logger.warn(\n",
            "Warning: initial_connection = full with hidden nodes will not do direct input-output connections;\n",
            "\tif this is desired, set initial_connection = full_nodirect;\n",
            "\tif not, set initial_connection = full_direct\n",
            "Warning: initial_connection = full with hidden nodes will not do direct input-output connections;\n",
            "\tif this is desired, set initial_connection = full_nodirect;\n",
            "\tif not, set initial_connection = full_direct\n",
            "Warning: initial_connection = full with hidden nodes will not do direct input-output connections;\n",
            "\tif this is desired, set initial_connection = full_nodirect;\n",
            "\tif not, set initial_connection = full_direct\n",
            "Warning: initial_connection = full with hidden nodes will not do direct input-output connections;\n",
            "\tif this is desired, set initial_connection = full_nodirect;\n",
            "\tif not, set initial_connection = full_direct\n",
            "Warning: initial_connection = full with hidden nodes will not do direct input-output connections;\n",
            "\tif this is desired, set initial_connection = full_nodirect;\n",
            "\tif not, set initial_connection = full_direct\n",
            "Warning: initial_connection = full with hidden nodes will not do direct input-output connections;\n",
            "\tif this is desired, set initial_connection = full_nodirect;\n",
            "\tif not, set initial_connection = full_direct\n",
            "Warning: initial_connection = full with hidden nodes will not do direct input-output connections;\n",
            "\tif this is desired, set initial_connection = full_nodirect;\n",
            "\tif not, set initial_connection = full_direct\n",
            "Warning: initial_connection = full with hidden nodes will not do direct input-output connections;\n",
            "\tif this is desired, set initial_connection = full_nodirect;\n",
            "\tif not, set initial_connection = full_direct\n",
            "Warning: initial_connection = full with hidden nodes will not do direct input-output connections;\n",
            "\tif this is desired, set initial_connection = full_nodirect;\n",
            "\tif not, set initial_connection = full_direct\n",
            "Warning: initial_connection = full with hidden nodes will not do direct input-output connections;\n",
            "\tif this is desired, set initial_connection = full_nodirect;\n",
            "\tif not, set initial_connection = full_direct\n"
          ]
        }
      ],
      "source": [
        "print(torch.cuda.is_available())\n",
        "#list_envs()\n",
        "env=gym.make(\"highway-fast-v0\", render_mode='rgb_array')\n",
        "config_path = 'config-ff.txt'\n",
        "\n",
        "learnDQNetwork(env, config_path)\n"
      ]
    }
  ],
  "metadata": {
    "accelerator": "GPU",
    "colab": {
      "authorship_tag": "ABX9TyMZYjEZoi+4AblLEg/yUiCZ",
      "gpuType": "T4",
      "provenance": []
    },
    "gpuClass": "standard",
    "kernelspec": {
      "display_name": "Python 3",
      "name": "python3"
    },
    "language_info": {
      "name": "python"
    }
  },
  "nbformat": 4,
  "nbformat_minor": 0
}
